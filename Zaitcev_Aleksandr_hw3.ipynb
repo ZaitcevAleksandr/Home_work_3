{
 "cells": [
  {
   "cell_type": "markdown",
   "metadata": {
    "deletable": true,
    "editable": true
   },
   "source": [
    "<center><img src=\"images/header.png\"></center>\n",
    "\n",
    "<h1><center>Алгоритмы интеллектуальной обработки больших объемов данных</center></h1>\n",
    "<hr>\n",
    "<h2><center>Деревья решений, случайные леса (практика)</center></h2>"
   ]
  },
  {
   "cell_type": "markdown",
   "metadata": {
    "deletable": true,
    "editable": true
   },
   "source": [
    "**Срок сдачи:** 3 апреля 2017, 06:00 <br> \n",
    "**Штраф за опоздание:** -2 балла после 06:00 3 апреля, -4 балла после 06:00 10 апреля, -6 баллов после 06:00 17 апреля\n",
    "\n",
    "При отправлении ДЗ указывайте фамилию в названии файла<br>\n",
    "\n",
    "Не забудте создать задание в Slack через /todo.\n",
    "\n",
    "Используйте данный Ipython Notebook при оформлении домашнего задания."
   ]
  },
  {
   "cell_type": "code",
   "execution_count": 2,
   "metadata": {
    "collapsed": false,
    "deletable": true,
    "editable": true
   },
   "outputs": [],
   "source": [
    "import pandas as pd\n",
    "import numpy as np\n",
    "import matplotlib.pyplot as plt\n",
    "\n",
    "%matplotlib inline\n",
    "\n",
    "plt.style.use('ggplot')\n",
    "plt.rcParams['figure.figsize'] = (12,8)\n",
    "\n",
    "# Для кириллицы на графиках\n",
    "font = {'family': 'Verdana',\n",
    "        'weight': 'normal'}\n",
    "plt.rc('font', **font)"
   ]
  },
  {
   "cell_type": "markdown",
   "metadata": {
    "deletable": true,
    "editable": true
   },
   "source": [
    "# Практика"
   ]
  },
  {
   "cell_type": "markdown",
   "metadata": {
    "deletable": true,
    "editable": true
   },
   "source": [
    "### Качество вина (10 баллов)"
   ]
  },
  {
   "cell_type": "markdown",
   "metadata": {
    "deletable": true,
    "editable": true
   },
   "source": [
    "Давайте все-таки разберемся с [вином](https://archive.ics.uci.edu/ml/machine-learning-databases/wine-quality/winequality-red.csv)!\n",
    "\n",
    "\n",
    "#### Задание (1 балл)\n",
    "* Загрузите данные, выполните преобразование целевой переменной: \n",
    "    * quality > 5 -> 1\n",
    "    * quality <= 5 -> 0\n",
    "* Разделите выборку на обучающую и контрольную в пропорции 80/20"
   ]
  },
  {
   "cell_type": "code",
   "execution_count": 3,
   "metadata": {
    "collapsed": false,
    "deletable": true,
    "editable": true
   },
   "outputs": [],
   "source": [
    "# Your Code Here\n",
    "df_wine = pd.read_csv('wines.csv', sep=',', index_col=0)\n"
   ]
  },
  {
   "cell_type": "code",
   "execution_count": 4,
   "metadata": {
    "collapsed": true,
    "deletable": true,
    "editable": true
   },
   "outputs": [],
   "source": [
    "def preprocess_wine(df):\n",
    "    df.loc[:, 'quality_cat'] = (df.loc[:, 'quality'] > 5).astype(int)\n",
    "    df = df.drop('quality', axis=1)\n",
    "    \n",
    "    return df"
   ]
  },
  {
   "cell_type": "code",
   "execution_count": 5,
   "metadata": {
    "collapsed": false,
    "deletable": true,
    "editable": true
   },
   "outputs": [],
   "source": [
    "df_wine = preprocess_wine(df_wine)"
   ]
  },
  {
   "cell_type": "code",
   "execution_count": 6,
   "metadata": {
    "collapsed": false,
    "deletable": true,
    "editable": true
   },
   "outputs": [
    {
     "data": {
      "text/html": [
       "<div>\n",
       "<table border=\"1\" class=\"dataframe\">\n",
       "  <thead>\n",
       "    <tr style=\"text-align: right;\">\n",
       "      <th></th>\n",
       "      <th>fixed acidity</th>\n",
       "      <th>volatile acidity</th>\n",
       "      <th>citric acid</th>\n",
       "      <th>residual sugar</th>\n",
       "      <th>chlorides</th>\n",
       "      <th>free sulfur dioxide</th>\n",
       "      <th>total sulfur dioxide</th>\n",
       "      <th>density</th>\n",
       "      <th>pH</th>\n",
       "      <th>sulphates</th>\n",
       "      <th>alcohol</th>\n",
       "      <th>quality_cat</th>\n",
       "    </tr>\n",
       "  </thead>\n",
       "  <tbody>\n",
       "    <tr>\n",
       "      <th>0</th>\n",
       "      <td>7.4</td>\n",
       "      <td>0.70</td>\n",
       "      <td>0.00</td>\n",
       "      <td>1.9</td>\n",
       "      <td>0.076</td>\n",
       "      <td>11.0</td>\n",
       "      <td>34.0</td>\n",
       "      <td>0.9978</td>\n",
       "      <td>3.51</td>\n",
       "      <td>0.56</td>\n",
       "      <td>9.4</td>\n",
       "      <td>0</td>\n",
       "    </tr>\n",
       "    <tr>\n",
       "      <th>1</th>\n",
       "      <td>7.8</td>\n",
       "      <td>0.88</td>\n",
       "      <td>0.00</td>\n",
       "      <td>2.6</td>\n",
       "      <td>0.098</td>\n",
       "      <td>25.0</td>\n",
       "      <td>67.0</td>\n",
       "      <td>0.9968</td>\n",
       "      <td>3.20</td>\n",
       "      <td>0.68</td>\n",
       "      <td>9.8</td>\n",
       "      <td>0</td>\n",
       "    </tr>\n",
       "    <tr>\n",
       "      <th>2</th>\n",
       "      <td>7.8</td>\n",
       "      <td>0.76</td>\n",
       "      <td>0.04</td>\n",
       "      <td>2.3</td>\n",
       "      <td>0.092</td>\n",
       "      <td>15.0</td>\n",
       "      <td>54.0</td>\n",
       "      <td>0.9970</td>\n",
       "      <td>3.26</td>\n",
       "      <td>0.65</td>\n",
       "      <td>9.8</td>\n",
       "      <td>0</td>\n",
       "    </tr>\n",
       "    <tr>\n",
       "      <th>3</th>\n",
       "      <td>11.2</td>\n",
       "      <td>0.28</td>\n",
       "      <td>0.56</td>\n",
       "      <td>1.9</td>\n",
       "      <td>0.075</td>\n",
       "      <td>17.0</td>\n",
       "      <td>60.0</td>\n",
       "      <td>0.9980</td>\n",
       "      <td>3.16</td>\n",
       "      <td>0.58</td>\n",
       "      <td>9.8</td>\n",
       "      <td>1</td>\n",
       "    </tr>\n",
       "    <tr>\n",
       "      <th>4</th>\n",
       "      <td>7.4</td>\n",
       "      <td>0.70</td>\n",
       "      <td>0.00</td>\n",
       "      <td>1.9</td>\n",
       "      <td>0.076</td>\n",
       "      <td>11.0</td>\n",
       "      <td>34.0</td>\n",
       "      <td>0.9978</td>\n",
       "      <td>3.51</td>\n",
       "      <td>0.56</td>\n",
       "      <td>9.4</td>\n",
       "      <td>0</td>\n",
       "    </tr>\n",
       "  </tbody>\n",
       "</table>\n",
       "</div>"
      ],
      "text/plain": [
       "   fixed acidity  volatile acidity  citric acid  residual sugar  chlorides  \\\n",
       "0            7.4              0.70         0.00             1.9      0.076   \n",
       "1            7.8              0.88         0.00             2.6      0.098   \n",
       "2            7.8              0.76         0.04             2.3      0.092   \n",
       "3           11.2              0.28         0.56             1.9      0.075   \n",
       "4            7.4              0.70         0.00             1.9      0.076   \n",
       "\n",
       "   free sulfur dioxide  total sulfur dioxide  density    pH  sulphates  \\\n",
       "0                 11.0                  34.0   0.9978  3.51       0.56   \n",
       "1                 25.0                  67.0   0.9968  3.20       0.68   \n",
       "2                 15.0                  54.0   0.9970  3.26       0.65   \n",
       "3                 17.0                  60.0   0.9980  3.16       0.58   \n",
       "4                 11.0                  34.0   0.9978  3.51       0.56   \n",
       "\n",
       "   alcohol  quality_cat  \n",
       "0      9.4            0  \n",
       "1      9.8            0  \n",
       "2      9.8            0  \n",
       "3      9.8            1  \n",
       "4      9.4            0  "
      ]
     },
     "execution_count": 6,
     "metadata": {},
     "output_type": "execute_result"
    }
   ],
   "source": [
    "df_wine.head()"
   ]
  },
  {
   "cell_type": "code",
   "execution_count": 7,
   "metadata": {
    "collapsed": true,
    "deletable": true,
    "editable": true
   },
   "outputs": [],
   "source": [
    "from sklearn.model_selection import train_test_split\n",
    "\n",
    "df_wine_train, df_wine_test = train_test_split(df_wine, test_size = 0.2)"
   ]
  },
  {
   "cell_type": "code",
   "execution_count": 8,
   "metadata": {
    "collapsed": false,
    "deletable": true,
    "editable": true
   },
   "outputs": [
    {
     "data": {
      "text/html": [
       "<div>\n",
       "<table border=\"1\" class=\"dataframe\">\n",
       "  <thead>\n",
       "    <tr style=\"text-align: right;\">\n",
       "      <th></th>\n",
       "      <th>fixed acidity</th>\n",
       "      <th>volatile acidity</th>\n",
       "      <th>citric acid</th>\n",
       "      <th>residual sugar</th>\n",
       "      <th>chlorides</th>\n",
       "      <th>free sulfur dioxide</th>\n",
       "      <th>total sulfur dioxide</th>\n",
       "      <th>density</th>\n",
       "      <th>pH</th>\n",
       "      <th>sulphates</th>\n",
       "      <th>alcohol</th>\n",
       "      <th>quality_cat</th>\n",
       "    </tr>\n",
       "  </thead>\n",
       "  <tbody>\n",
       "    <tr>\n",
       "      <th>982</th>\n",
       "      <td>7.3</td>\n",
       "      <td>0.520</td>\n",
       "      <td>0.32</td>\n",
       "      <td>2.1</td>\n",
       "      <td>0.070</td>\n",
       "      <td>51.0</td>\n",
       "      <td>70.0</td>\n",
       "      <td>0.99418</td>\n",
       "      <td>3.34</td>\n",
       "      <td>0.82</td>\n",
       "      <td>12.9</td>\n",
       "      <td>1</td>\n",
       "    </tr>\n",
       "    <tr>\n",
       "      <th>427</th>\n",
       "      <td>9.5</td>\n",
       "      <td>0.780</td>\n",
       "      <td>0.22</td>\n",
       "      <td>1.9</td>\n",
       "      <td>0.077</td>\n",
       "      <td>6.0</td>\n",
       "      <td>32.0</td>\n",
       "      <td>0.99880</td>\n",
       "      <td>3.26</td>\n",
       "      <td>0.56</td>\n",
       "      <td>10.6</td>\n",
       "      <td>1</td>\n",
       "    </tr>\n",
       "    <tr>\n",
       "      <th>555</th>\n",
       "      <td>15.5</td>\n",
       "      <td>0.645</td>\n",
       "      <td>0.49</td>\n",
       "      <td>4.2</td>\n",
       "      <td>0.095</td>\n",
       "      <td>10.0</td>\n",
       "      <td>23.0</td>\n",
       "      <td>1.00315</td>\n",
       "      <td>2.92</td>\n",
       "      <td>0.74</td>\n",
       "      <td>11.1</td>\n",
       "      <td>0</td>\n",
       "    </tr>\n",
       "    <tr>\n",
       "      <th>1371</th>\n",
       "      <td>7.5</td>\n",
       "      <td>0.580</td>\n",
       "      <td>0.56</td>\n",
       "      <td>3.1</td>\n",
       "      <td>0.153</td>\n",
       "      <td>5.0</td>\n",
       "      <td>14.0</td>\n",
       "      <td>0.99476</td>\n",
       "      <td>3.21</td>\n",
       "      <td>1.03</td>\n",
       "      <td>11.6</td>\n",
       "      <td>1</td>\n",
       "    </tr>\n",
       "    <tr>\n",
       "      <th>734</th>\n",
       "      <td>7.7</td>\n",
       "      <td>0.560</td>\n",
       "      <td>0.20</td>\n",
       "      <td>2.0</td>\n",
       "      <td>0.075</td>\n",
       "      <td>9.0</td>\n",
       "      <td>39.0</td>\n",
       "      <td>0.99870</td>\n",
       "      <td>3.48</td>\n",
       "      <td>0.62</td>\n",
       "      <td>9.3</td>\n",
       "      <td>0</td>\n",
       "    </tr>\n",
       "  </tbody>\n",
       "</table>\n",
       "</div>"
      ],
      "text/plain": [
       "      fixed acidity  volatile acidity  citric acid  residual sugar  chlorides  \\\n",
       "982             7.3             0.520         0.32             2.1      0.070   \n",
       "427             9.5             0.780         0.22             1.9      0.077   \n",
       "555            15.5             0.645         0.49             4.2      0.095   \n",
       "1371            7.5             0.580         0.56             3.1      0.153   \n",
       "734             7.7             0.560         0.20             2.0      0.075   \n",
       "\n",
       "      free sulfur dioxide  total sulfur dioxide  density    pH  sulphates  \\\n",
       "982                  51.0                  70.0  0.99418  3.34       0.82   \n",
       "427                   6.0                  32.0  0.99880  3.26       0.56   \n",
       "555                  10.0                  23.0  1.00315  2.92       0.74   \n",
       "1371                  5.0                  14.0  0.99476  3.21       1.03   \n",
       "734                   9.0                  39.0  0.99870  3.48       0.62   \n",
       "\n",
       "      alcohol  quality_cat  \n",
       "982      12.9            1  \n",
       "427      10.6            1  \n",
       "555      11.1            0  \n",
       "1371     11.6            1  \n",
       "734       9.3            0  "
      ]
     },
     "execution_count": 8,
     "metadata": {},
     "output_type": "execute_result"
    }
   ],
   "source": [
    "df_wine_train.head()"
   ]
  },
  {
   "cell_type": "markdown",
   "metadata": {
    "deletable": true,
    "editable": true
   },
   "source": [
    "#### Задание (2 балла)\n",
    "\n",
    "Сфокусируемся на одном гиперпараметре деревьев решений - максимальной глубине.\n",
    "\n",
    "Подберите наилучшую глубину `d` дерева с помошью \n",
    "* Усредненной оценки качества roc-auc на кросс-валидации при различных `d`\n",
    "* Валидационных кривых"
   ]
  },
  {
   "cell_type": "code",
   "execution_count": 9,
   "metadata": {
    "collapsed": true,
    "deletable": true,
    "editable": true
   },
   "outputs": [],
   "source": [
    "from sklearn.tree import DecisionTreeClassifier\n",
    "\n",
    "try:\n",
    "    from sklearn.model_selection import cross_val_score\n",
    "except ImportError:\n",
    "    from sklearn.cross_validation import cross_val_score\n",
    "\n",
    "try:\n",
    "    from sklearn.model_selection import validation_curve\n",
    "except ImportError:\n",
    "    from sklearn.learning_curve import validation_curve"
   ]
  },
  {
   "cell_type": "code",
   "execution_count": 10,
   "metadata": {
    "collapsed": true,
    "deletable": true,
    "editable": true
   },
   "outputs": [],
   "source": [
    "# Your Code Here\n",
    "X_train, y_train = df_wine_train.iloc[:, :-1].values, df_wine_train.iloc[:, -1].values\n"
   ]
  },
  {
   "cell_type": "code",
   "execution_count": 11,
   "metadata": {
    "collapsed": false,
    "deletable": true,
    "editable": true
   },
   "outputs": [
    {
     "name": "stdout",
     "output_type": "stream",
     "text": [
      "The best depth is 5\n"
     ]
    }
   ],
   "source": [
    "#кросс-валидация с roc-auc\n",
    "max_score = 0\n",
    "best_depth = 0\n",
    "\n",
    "for depth in xrange(100):\n",
    "    tree = DecisionTreeClassifier(criterion='entropy', max_depth=depth+1)\n",
    "    scores = cross_val_score(tree, X_train, y_train, scoring='roc_auc', cv=5)\n",
    "    if(max_score<scores.mean()):\n",
    "        max_score = scores.mean()\n",
    "        best_depth = depth+1\n",
    "print 'The best depth is %i' % best_depth"
   ]
  },
  {
   "cell_type": "code",
   "execution_count": 12,
   "metadata": {
    "collapsed": false,
    "deletable": true,
    "editable": true
   },
   "outputs": [
    {
     "name": "stderr",
     "output_type": "stream",
     "text": [
      "/usr/local/lib/python2.7/dist-packages/matplotlib/font_manager.py:1297: UserWarning: findfont: Font family [u'Verdana'] not found. Falling back to DejaVu Sans\n",
      "  (prop.get_family(), self.defaultFamily[fontext]))\n"
     ]
    },
    {
     "data": {
      "image/png": "[encoded data removed]",
      "text/plain": [
       "<matplotlib.figure.Figure at 0x7fc3f6d3c590>"
      ]
     },
     "metadata": {},
     "output_type": "display_data"
    }
   ],
   "source": [
    "#Валидационные кривые с roc-auc (здесь не очень понял, нужно использовать roc-auc или что-то другое)\n",
    "#Модифицировал код из примера в sclearn, в логарифмической шкале нагляднее\n",
    "depths = np.arange(1, 100, 1, dtype=int)\n",
    "tree = DecisionTreeClassifier(criterion='entropy')\n",
    "train_scores, test_scores = validation_curve(tree, X_train, y_train, param_name='max_depth', param_range=depths,\n",
    "                                             cv=5, scoring=\"roc_auc\")\n",
    "\n",
    "train_scores_mean = np.mean(train_scores, axis=1)\n",
    "train_scores_std = np.std(train_scores, axis=1)\n",
    "test_scores_mean = np.mean(test_scores, axis=1)\n",
    "test_scores_std = np.std(test_scores, axis=1)\n",
    "\n",
    "plt.title(\"Validation Curve with DecisionTreeClassifier\")\n",
    "plt.xlabel(\"max_depth\")\n",
    "plt.ylabel(\"Score\")\n",
    "plt.ylim(0.0, 1.1)\n",
    "\n",
    "lw = 2\n",
    "plt.semilogx(depths, train_scores_mean, label=\"Training score\", color=\"darkorange\", lw=lw)\n",
    "plt.fill_between(depths, train_scores_mean - train_scores_std, train_scores_mean + train_scores_std, alpha=0.2,\n",
    "                 color=\"darkorange\", lw=lw)\n",
    "plt.semilogx(depths, test_scores_mean, label=\"Cross-validation score\", color=\"navy\", lw=lw)\n",
    "plt.fill_between(depths, test_scores_mean - test_scores_std,test_scores_mean + test_scores_std, alpha=0.2,\n",
    "                 color=\"navy\", lw=lw)\n",
    "plt.legend(loc=\"best\")\n",
    "plt.show()\n",
    "\n"
   ]
  },
  {
   "cell_type": "code",
   "execution_count": null,
   "metadata": {
    "collapsed": false,
    "deletable": true,
    "editable": true
   },
   "outputs": [],
   "source": []
  },
  {
   "cell_type": "markdown",
   "metadata": {
    "deletable": true,
    "editable": true
   },
   "source": [
    "#### Задание (1 балл)\n",
    "\n",
    "Отсортируйте признаки по важности. Вектор с важностью признаков можно получить с помощью `model.feature_importances_`"
   ]
  },
  {
   "cell_type": "code",
   "execution_count": 13,
   "metadata": {
    "collapsed": false,
    "deletable": true,
    "editable": true
   },
   "outputs": [
    {
     "data": {
      "text/plain": [
       "array([ 0.01107557,  0.09232999,  0.02815951,  0.03271895,  0.02545154,\n",
       "        0.00952852,  0.09575354,  0.01462059,  0.05434976,  0.18493664,\n",
       "        0.45107541])"
      ]
     },
     "execution_count": 13,
     "metadata": {},
     "output_type": "execute_result"
    }
   ],
   "source": [
    "# Your Code Here\n",
    "tree = DecisionTreeClassifier(criterion='entropy', max_depth=best_depth)\n",
    "tree.fit(X_train, y_train)\n",
    "tree.feature_importances_"
   ]
  },
  {
   "cell_type": "code",
   "execution_count": 14,
   "metadata": {
    "collapsed": false,
    "deletable": true,
    "editable": true
   },
   "outputs": [
    {
     "name": "stdout",
     "output_type": "stream",
     "text": [
      "0.45 alcohol\n",
      "0.18 sulphates\n",
      "0.10 total sulfur dioxide\n",
      "0.09 volatile acidity\n",
      "0.05 pH\n",
      "0.03 residual sugar\n",
      "0.03 citric acid\n",
      "0.03 chlorides\n",
      "0.01 density\n",
      "0.01 fixed acidity\n",
      "0.01 free sulfur dioxide\n"
     ]
    }
   ],
   "source": [
    "#Отсортировал и вывел названия признаков по важности\n",
    "imp_fts = {}\n",
    "\n",
    "for i in xrange(len(tree.feature_importances_)):\n",
    "    imp_fts[df_wine_train.columns.values[i]]=tree.feature_importances_[i]\n",
    "\n",
    "for f in sorted(imp_fts, key=imp_fts.get, reverse=True):\n",
    "    print '%.2f' %imp_fts[f], f"
   ]
  },
  {
   "cell_type": "markdown",
   "metadata": {
    "deletable": true,
    "editable": true
   },
   "source": [
    "#### Задание (2 балла)\n",
    "* Получите предсказания на тестовой выборке\n",
    "* Постройте ROC кривые для обучающей и тестовой выборок\n",
    "* Посчитайте остальные меры качества классификации при пороге в `0.5`"
   ]
  },
  {
   "cell_type": "code",
   "execution_count": 15,
   "metadata": {
    "collapsed": true,
    "deletable": true,
    "editable": true
   },
   "outputs": [],
   "source": [
    "# Your Code Here\n",
    "from sklearn.metrics import roc_curve"
   ]
  },
  {
   "cell_type": "code",
   "execution_count": 16,
   "metadata": {
    "collapsed": false,
    "deletable": true,
    "editable": true
   },
   "outputs": [
    {
     "name": "stdout",
     "output_type": "stream",
     "text": [
      "0.746875\n"
     ]
    }
   ],
   "source": [
    "#Делаем предсказание на тестовой выборке и смотрим, насколько хорошо классифицируются данные (доля угаданных)\n",
    "X_test, y_test = df_wine_test.iloc[:, :-1].values, df_wine_test.iloc[:, -1].values\n",
    "\n",
    "y_predicted = tree.predict(X_test)\n",
    "\n",
    "print tree.score(X_test, y_test)"
   ]
  },
  {
   "cell_type": "code",
   "execution_count": 17,
   "metadata": {
    "collapsed": false,
    "deletable": true,
    "editable": true
   },
   "outputs": [],
   "source": [
    "#Строим ROC-кривые\n",
    "p_predicted_train = tree.predict_proba(X_train)\n",
    "p_predicted_test = tree.predict_proba(X_test)\n",
    "fpr_tr, tpr_tr, thresholds_tr = roc_curve(y_train, p_predicted_train[:,1])\n",
    "fpr_ts, tpr_ts, thresholds_ts = roc_curve(y_test, p_predicted_test[:,1])"
   ]
  },
  {
   "cell_type": "code",
   "execution_count": 18,
   "metadata": {
    "collapsed": false,
    "deletable": true,
    "editable": true
   },
   "outputs": [
    {
     "data": {
      "image/png": "[encoded data removed]",
      "text/plain": [
       "<matplotlib.figure.Figure at 0x7fc3f5842390>"
      ]
     },
     "metadata": {},
     "output_type": "display_data"
    }
   ],
   "source": [
    "plt.figure()\n",
    "lw = 2\n",
    "plt.plot(fpr_tr, tpr_tr, color='red', lw=lw, label='ROC curve train data' )\n",
    "plt.plot(fpr_ts, tpr_ts, color='blue', lw=lw, label='ROC curve test data' )\n",
    "plt.xlim([0.0, 1.0])\n",
    "plt.ylim([0.0, 1.05])\n",
    "plt.xlabel('False Positive Rate')\n",
    "plt.ylabel('True Positive Rate')\n",
    "plt.title('Receiver operating characteristic')\n",
    "plt.legend(loc=\"lower right\")\n",
    "plt.show()"
   ]
  },
  {
   "cell_type": "code",
   "execution_count": 19,
   "metadata": {
    "collapsed": false,
    "deletable": true,
    "editable": true
   },
   "outputs": [],
   "source": [
    "y_pred_train = (p_predicted_train[:,1]>0.5).astype(int)\n",
    "y_pred_test = (p_predicted_test[:,1]>0.5).astype(int)"
   ]
  },
  {
   "cell_type": "code",
   "execution_count": 20,
   "metadata": {
    "collapsed": false,
    "deletable": true,
    "editable": true
   },
   "outputs": [
    {
     "name": "stdout",
     "output_type": "stream",
     "text": [
      "0.78 accuracy, train set\n",
      "0.75 accuracy, test set\n",
      "0.81 precision, train set\n",
      "0.80 precision, test set\n",
      "0.78 f1_score, train set\n",
      "0.77 f1_score, test set\n",
      "0.22 hamming_loss, train set\n",
      "0.25 hamming_loss, test set\n",
      "0.56 matthews_corrcoef, train set\n",
      "0.49 matthews_corrcoef, test set\n",
      "0.75 recall, train set\n",
      "0.73 recall, test set\n",
      "0.22 zero_one_loss, train set\n",
      "0.25 zero_one_loss, test set\n",
      "0.88 roc_auc_score, train set\n",
      "0.81 roc_auc_score, test set\n"
     ]
    }
   ],
   "source": [
    "from sklearn.metrics import *\n",
    "print '%.2f' %accuracy_score(y_train, y_pred_train), 'accuracy, train set'\n",
    "print '%.2f' %accuracy_score(y_test, y_pred_test), 'accuracy, test set'\n",
    "print '%.2f' %precision_score(y_train, y_pred_train), 'precision, train set'\n",
    "print '%.2f' %precision_score(y_test, y_pred_test), 'precision, test set'\n",
    "print '%.2f' %f1_score(y_train, y_pred_train), 'f1_score, train set'\n",
    "print '%.2f' %f1_score(y_test, y_pred_test), 'f1_score, test set'\n",
    "print '%.2f' %hamming_loss(y_train, y_pred_train), 'hamming_loss, train set'\n",
    "print '%.2f' %hamming_loss(y_test, y_pred_test), 'hamming_loss, test set'\n",
    "print '%.2f' %matthews_corrcoef(y_train, y_pred_train), 'matthews_corrcoef, train set'\n",
    "print '%.2f' %matthews_corrcoef(y_test, y_pred_test), 'matthews_corrcoef, test set'\n",
    "print '%.2f' %recall_score(y_train, y_pred_train), 'recall, train set'\n",
    "print '%.2f' %recall_score(y_test, y_pred_test), 'recall, test set'\n",
    "print '%.2f' %zero_one_loss(y_train, y_pred_train), 'zero_one_loss, train set'\n",
    "print '%.2f' %zero_one_loss(y_test, y_pred_test), 'zero_one_loss, test set'\n",
    "print '%.2f' %roc_auc_score(y_train, p_predicted_train[:,1]), 'roc_auc_score, train set'\n",
    "print '%.2f' %roc_auc_score(y_test, p_predicted_test[:,1]), 'roc_auc_score, test set'"
   ]
  },
  {
   "cell_type": "markdown",
   "metadata": {
    "deletable": true,
    "editable": true
   },
   "source": [
    "#### Задание (1 балл)\n",
    "Перейдем к модели случайного леса. Зафиксируем некоторую глубину дерева (можно звять оптимальное с предыдущих заданий).\n",
    "\n",
    "Сравните качество работы \n",
    "* Простого дерева решений\n",
    "* Бэггинга над 10,20,...,100 деревьями решений\n",
    "* Случайного леса с 10,20,...,100 деревьями решений\n",
    "\n",
    "Получите график, у которого по оси X откладывается количество деревьев, а по оси Y - качество классификации."
   ]
  },
  {
   "cell_type": "code",
   "execution_count": 21,
   "metadata": {
    "collapsed": true,
    "deletable": true,
    "editable": true
   },
   "outputs": [],
   "source": [
    "from sklearn.ensemble import BaggingClassifier\n",
    "from sklearn.ensemble import RandomForestClassifier"
   ]
  },
  {
   "cell_type": "code",
   "execution_count": 22,
   "metadata": {
    "collapsed": false,
    "deletable": true,
    "editable": true
   },
   "outputs": [
    {
     "name": "stdout",
     "output_type": "stream",
     "text": [
      "0.88 roc_auc_score, train set\n",
      "0.81 roc_auc_score, test set\n"
     ]
    }
   ],
   "source": [
    "#Качество (по метрике roc-auc) простого дерева решений \n",
    "\n",
    "print '%.2f' %roc_auc_score(y_train, p_predicted_train[:,1]), 'roc_auc_score, train set'\n",
    "print '%.2f' %roc_auc_score(y_test, p_predicted_test[:,1]), 'roc_auc_score, test set'"
   ]
  },
  {
   "cell_type": "code",
   "execution_count": 23,
   "metadata": {
    "collapsed": false,
    "deletable": true,
    "editable": true
   },
   "outputs": [
    {
     "data": {
      "image/png": "[encoded data removed]",
      "text/plain": [
       "<matplotlib.figure.Figure at 0x7fc3f3666f90>"
      ]
     },
     "metadata": {},
     "output_type": "display_data"
    }
   ],
   "source": [
    "# Зависимость качества классификации BaggingClassifier и RandomForest для разного количества деревьев\n",
    "# Для такого количества деревьев зависимости не прослеживается, отдельно проверял по метрике accuracy - то же самое\n",
    "#Разницы BaggingClassifier и RandomForest тоже не наблюдается\n",
    "num_trees = np.arange(10, 110, 10, dtype=int)\n",
    "scr_train_bg = np.zeros(num_trees.shape, dtype=float)\n",
    "scr_test_bg = np.zeros(num_trees.shape, dtype=float)\n",
    "scr_train_fr = np.zeros(num_trees.shape, dtype=float)\n",
    "scr_test_fr = np.zeros(num_trees.shape, dtype=float)\n",
    "\n",
    "i=0\n",
    "for num in num_trees:\n",
    "    bag_trees = BaggingClassifier(tree, n_estimators=num)\n",
    "    forest = RandomForestClassifier(criterion='entropy', max_depth=best_depth, n_estimators=num) #Энтропия, чтобы везде был один критерий\n",
    "    bag_trees.fit(X_train, y_train)\n",
    "    forest.fit(X_train, y_train)\n",
    "    scr_train_bg[i] = roc_auc_score(y_train, bag_trees.predict_proba(X_train)[:,1]) \n",
    "    scr_test_bg[i] = roc_auc_score(y_test, bag_trees.predict_proba(X_test)[:,1]) \n",
    "    scr_train_fr[i] = roc_auc_score(y_train, forest.predict_proba(X_train)[:,1]) \n",
    "    scr_test_fr[i] = roc_auc_score(y_test, forest.predict_proba(X_test)[:,1]) \n",
    "    i+=1\n",
    "    \n",
    "plt.title(\"ROC-AUC for BaggingClassifier and RandomForest\")\n",
    "plt.xlabel(\"Number of trees\")\n",
    "plt.ylabel(\"Score\")\n",
    "plt.ylim(0.0, 1.1)\n",
    "\n",
    "lw = 2\n",
    "\n",
    "plt.plot(num_trees, scr_train_bg, label=\"Training score Bagging\", color=\"darkorange\", lw=lw)\n",
    "plt.plot(num_trees, scr_test_bg, label=\"Test score Bagging\", color=\"navy\", lw=lw)\n",
    "plt.plot(num_trees, scr_train_fr, label=\"Training score Forest\", color=\"red\", lw=lw)\n",
    "plt.plot(num_trees, scr_test_fr, label=\"Test score Forest\", color=\"blue\", lw=lw)\n",
    "plt.legend(loc=\"lower right\")\n",
    "plt.show()"
   ]
  },
  {
   "cell_type": "code",
   "execution_count": 24,
   "metadata": {
    "collapsed": false,
    "deletable": true,
    "editable": true
   },
   "outputs": [
    {
     "name": "stdout",
     "output_type": "stream",
     "text": [
      "0.91 roc_auc_score, train set, BaggingClassifier\n",
      "0.82 roc_auc_score, test set, BaggingClassifier\n",
      "0.90 roc_auc_score, train set, RandomForest\n",
      "0.82 roc_auc_score, test set, RandomForest\n"
     ]
    }
   ],
   "source": [
    "#Качество предсказания случайного леса и бэггинга деревьев выше, чем у простого дерева решений\n",
    "print '%.2f' %scr_train_bg[1], 'roc_auc_score, train set, BaggingClassifier'\n",
    "print '%.2f' %scr_test_bg[1], 'roc_auc_score, test set, BaggingClassifier'\n",
    "print '%.2f' %scr_train_fr[1], 'roc_auc_score, train set, RandomForest'\n",
    "print '%.2f' %scr_test_fr[1], 'roc_auc_score, test set, RandomForest'"
   ]
  },
  {
   "cell_type": "code",
   "execution_count": null,
   "metadata": {
    "collapsed": false,
    "deletable": true,
    "editable": true
   },
   "outputs": [],
   "source": []
  },
  {
   "cell_type": "markdown",
   "metadata": {
    "deletable": true,
    "editable": true
   },
   "source": [
    "####  Задание (3 балла)\n",
    "* С помощью `GridSearchCV` или `RandomSearchCV` подберите наиболее оптимальные параметры для случайного леса.\n",
    "* Для этих параметров сравните средние результаты по кросс-валидации и качество на контрольной выборке"
   ]
  },
  {
   "cell_type": "code",
   "execution_count": 1,
   "metadata": {
    "collapsed": true,
    "deletable": true,
    "editable": true
   },
   "outputs": [],
   "source": [
    "# Your Code Here\n",
    "from sklearn.model_selection import GridSearchCV"
   ]
  },
  {
   "cell_type": "code",
   "execution_count": 28,
   "metadata": {
    "collapsed": false
   },
   "outputs": [
    {
     "name": "stdout",
     "output_type": "stream",
     "text": [
      "{'max_features': 1, 'min_samples_split': 2, 'n_estimators': 150, 'max_depth': 80, 'min_samples_leaf': 1}\n",
      "0.872097819914\n"
     ]
    }
   ],
   "source": [
    "#Запускал на сетах параметров с широкой сеткой, чтобы лучше представлять, куда примерно двигаться\n",
    "forest = RandomForestClassifier(criterion='entropy', max_depth=best_depth)\n",
    "params={}\n",
    "params['max_depth']=[2, 5, 8, 10, 30, 40, 50, 60, 70, 80]\n",
    "params['n_estimators']=[2, 5, 10, 30, 50, 70, 80, 100, 150]\n",
    "params['max_features']=[1, 2, 4, 6, 8]\n",
    "params['min_samples_split']=[2, 3, 4, 5, 10]\n",
    "params['min_samples_leaf']=[1, 2, 4, 6, 10]\n",
    "\n",
    "GS = GridSearchCV(forest, n_jobs=-1, param_grid=params, scoring='roc_auc')\n",
    "GS.fit(X_train, y_train)\n",
    "print GS.best_params_\n",
    "print GS.best_score_"
   ]
  },
  {
   "cell_type": "code",
   "execution_count": 33,
   "metadata": {
    "collapsed": false
   },
   "outputs": [
    {
     "name": "stdout",
     "output_type": "stream",
     "text": [
      "{'n_estimators': 170, 'max_depth': 200}\n",
      "0.873797661843\n"
     ]
    }
   ],
   "source": [
    "#Здесь ещё уточняем параметры\n",
    "forest_1 = RandomForestClassifier(criterion='entropy', min_samples_leaf=1, min_samples_split=2, max_features=1)\n",
    "params_opt={}\n",
    "params_opt['max_depth'] = [80, 90, 100, 110, 120, 130, 150, 200]\n",
    "params_opt['n_estimators'] = [150, 160, 170, 180, 200, 250]\n",
    "GS_opt = GridSearchCV(forest_1, n_jobs=-1, param_grid=params_opt, scoring='roc_auc')\n",
    "\n",
    "GS_opt.fit(X_train, y_train)\n",
    "\n",
    "print GS_opt.best_params_\n",
    "print GS_opt.best_score_"
   ]
  },
  {
   "cell_type": "code",
   "execution_count": 36,
   "metadata": {
    "collapsed": false
   },
   "outputs": [
    {
     "name": "stdout",
     "output_type": "stream",
     "text": [
      "0.886626984127\n"
     ]
    }
   ],
   "source": [
    "#Улучшение в третьем знаке после запятой - дальше смысла мало, видимо. И глубина дерева уже довольно большая.\n",
    "#На этих параметрах для тестовой выборки качество получается выше, чем без подбора параметров\n",
    "\n",
    "forest_opt = RandomForestClassifier(criterion='entropy', min_samples_leaf=1, min_samples_split=2,\n",
    "                                  max_features=1, max_depth=200, n_estimators=170)\n",
    "forest_opt.fit(X_train, y_train)\n",
    "print roc_auc_score(y_test, forest_opt.predict_proba(X_test)[:,1]) "
   ]
  },
  {
   "cell_type": "code",
   "execution_count": 37,
   "metadata": {
    "collapsed": false
   },
   "outputs": [
    {
     "name": "stdout",
     "output_type": "stream",
     "text": [
      "0.884059483726\n"
     ]
    }
   ],
   "source": [
    "#Оценка по кросс-валидации на тренировочном сете\n",
    "#Качество практически такое же, как и для тестовой выборки, но ниже, чем было без подбора параметров для тренировочного сета.\n",
    "#Модель стала менее переобученной.\n",
    "scores = cross_val_score(forest_opt, X_train, y_train, scoring='roc_auc', cv=5)\n",
    "print scores.mean()"
   ]
  }
 ],
 "metadata": {
  "anaconda-cloud": {},
  "kernelspec": {
   "display_name": "Python 2",
   "language": "python",
   "name": "python2"
  },
  "language_info": {
   "codemirror_mode": {
    "name": "ipython",
    "version": 2
   },
   "file_extension": ".py",
   "mimetype": "text/x-python",
   "name": "python",
   "nbconvert_exporter": "python",
   "pygments_lexer": "ipython2",
   "version": "2.7.12"
  },
  "nav_menu": {},
  "toc": {
   "navigate_menu": true,
   "number_sections": false,
   "sideBar": false,
   "threshold": 6,
   "toc_cell": false,
   "toc_section_display": "block",
   "toc_window_display": true
  },
  "toc_position": {
   "height": "80px",
   "left": "28px",
   "right": "862.667px",
   "top": "138px",
   "width": "176px"
  }
 },
 "nbformat": 4,
 "nbformat_minor": 0
}
